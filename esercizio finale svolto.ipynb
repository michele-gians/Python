{
 "cells": [
  {
   "cell_type": "code",
   "execution_count": null,
   "id": "2a9e5df2-d88d-4152-a920-7af905def40e",
   "metadata": {},
   "outputs": [],
   "source": [
    "#caricamento file CSV\n",
    "import pandas as pd\n",
    "df = pd.read_csv(\"https://covid.ourworldindata.org/data/owid-covid-data.csv\")"
   ]
  },
  {
   "cell_type": "code",
   "execution_count": null,
   "id": "d3249451-712a-4d0d-805c-e28d0780eaf6",
   "metadata": {},
   "outputs": [],
   "source": [
    "#esplorazione dimensione e metadati\n",
    "\n",
    "df.shape"
   ]
  },
  {
   "cell_type": "code",
   "execution_count": null,
   "id": "6d1ab1c1-0e3d-4f58-ae79-7d50b79c442c",
   "metadata": {},
   "outputs": [],
   "source": [
    "df.info()"
   ]
  },
  {
   "cell_type": "code",
   "execution_count": null,
   "id": "7e59812b-50b5-489f-b107-a599b23342ab",
   "metadata": {},
   "outputs": [],
   "source": [
    "df.describe()"
   ]
  },
  {
   "cell_type": "code",
   "execution_count": null,
   "id": "85043b93-2ed6-42d7-a63e-207550075deb",
   "metadata": {},
   "outputs": [],
   "source": [
    "#Numero totale di casi per continente (richiesta 2) \n",
    "cont = df.dropna(subset=[\"continent\"])\n",
    "casi_cont = cont.groupby(\"continent\")[\"total_cases\"].sum()\n",
    "casi_cont"
   ]
  },
  {
   "cell_type": "code",
   "execution_count": null,
   "id": "9594db3c-53c3-495c-95ae-284dd96c221a",
   "metadata": {},
   "outputs": [],
   "source": [
    "#Confronto continenti (richiesta 3) \n",
    "#Totale casi nel mondo \n",
    "tot_mondo = df[\"total_cases\"].sum()\n",
    "\n",
    " \n",
    "def statistiche_continente(continente, casi_totali_mondo):\n",
    "    dati_continente = df[df[\"continent\"] == continente]\n",
    "  \n",
    "    max = dati_continente[\"total_cases\"].max()\n",
    "    media = dati_continente[\"total_cases\"].mean()\n",
    "    percentuale = (dati_continente[\"total_cases\"].sum() / casi_totali_mondo) * 100\n",
    "    return max, media, percentuale\n",
    "\n",
    "continente_1 = \"Asia\"\n",
    "continente_2 = \"North America\"\n",
    "massimo_cont_1, media_cont_1, percentuale_cont_1 = statistiche_continente(continente_1, tot_mondo)\n",
    "massimo_cont_2, media_cont_2, percentuale_cont_2 = statistiche_continente(continente_2, tot_mondo)\n",
    "print(f\"Descrittori {continente_1}:\")\n",
    "print(f\"Max: {massimo_cont_1}\")\n",
    "print(f\"Media: {media_cont_1}\")\n",
    "print(f\"Percentuale sul totale nel mondo: {percentuale_cont_1:.2f}%\\n\")\n",
    "\n",
    "print(f\"Descrittori {continente_2}:\")\n",
    "print(f\"Max: {massimo_cont_2}\")\n",
    "print(f\"Media: {media_cont_2}\")\n",
    "print(f\"Percentuale sul totale nel mondo: {percentuale_cont_2:.2f}%\")"
   ]
  },
  {
   "cell_type": "code",
   "execution_count": null,
   "id": "ae578f8c-9262-46f1-8fed-dc559aa47619",
   "metadata": {},
   "outputs": [],
   "source": [
    "pip install seaborn"
   ]
  },
  {
   "cell_type": "code",
   "execution_count": null,
   "id": "5ef16501-f58d-4cdc-8d19-22a94a12773e",
   "metadata": {},
   "outputs": [],
   "source": [
    "#Grafici casi totali e nuovi casi in Italia (richiesta 4)\n",
    "\n",
    "ita = df[(df[\"location\"] == \"Italy\")]\n",
    "if ita.empty:\n",
    "    print(\"No data found for Italy\")"
   ]
  },
  {
   "cell_type": "code",
   "execution_count": null,
   "id": "a2af92c6-063c-4eaf-950e-25a94d4f49e5",
   "metadata": {},
   "outputs": [],
   "source": [
    "import seaborn as sns\n",
    "from datetime import datetime\n",
    "\n",
    "#Grafico casi totali\n",
    "df[\"date\"] = pd.to_datetime(df[\"date\"])\n",
    "ita_2022 = df[(df[\"location\"] == \"Italy\") & (df[\"date\"].dt.year == 2022)]\n",
    "sns.lineplot(data=ita_2022, x=\"date\", y=\"total_cases\")"
   ]
  },
  {
   "cell_type": "code",
   "execution_count": null,
   "id": "2e4374fa-f67e-4059-8728-a3db8b61fe33",
   "metadata": {},
   "outputs": [],
   "source": [
    "#Grafico nuovi casi \n",
    "ita_2022[\"new_cases\"].fillna(0)\n",
    "sns.lineplot(data=ita_2022, x=\"date\", y=\"new_cases\")"
   ]
  },
  {
   "cell_type": "code",
   "execution_count": null,
   "id": "7711c06f-fbc4-436c-90af-3407afda5b1f",
   "metadata": {},
   "outputs": [],
   "source": [
    "#Grafico nuovi casi cumulati\n",
    "ita_2022[\"nc_cumulati\"] = ita_2022[\"new_cases\"].cumsum()\n",
    "sns.lineplot(data=ita_2022, x=\"date\", y=\"nc_cumulati\")"
   ]
  },
  {
   "cell_type": "code",
   "execution_count": null,
   "id": "13836f32-e16c-4c3b-953a-43a8df4cbdc0",
   "metadata": {},
   "outputs": [],
   "source": [
    "# Commento: confronto grafico casi totali vs nuovi casi cumulati\n",
    "# le curve sono comparabili perchè il grafico dei casi totali deve seguire \n",
    "# l'andamento dei nuovi casi giornalieri, ma non tenendo conto degli anni \n",
    "# precedenti il grafico dei casi giornalieri parte da zero"
   ]
  },
  {
   "cell_type": "code",
   "execution_count": null,
   "id": "01724d2d-90a1-4477-8f34-028677aaa53d",
   "metadata": {},
   "outputs": [],
   "source": [
    "#Grafico terapie intensive (richiesta 5) \n",
    "nazioni = df.loc[df[\"location\"].isin([\"Italy\", \"Germany\", \"France\"])]\n",
    "nazioni[\"date\"] = pd.to_datetime(nazioni[\"date\"])\n",
    "nazioni22_23 = nazioni.loc[(nazioni[\"date\"] >= \"2022-05-01\") & (nazioni[\"date\"] <= \"2023-04-30\")]\n",
    "\n",
    "sns.boxplot(data=nazioni22_23, x=\"location\", y=\"icu_patients\")"
   ]
  },
  {
   "cell_type": "code",
   "execution_count": null,
   "id": "07d16ed6-5808-4ae9-80d2-e6a3bee42172",
   "metadata": {},
   "outputs": [],
   "source": [
    "#Commento:\n",
    "# dal box plot si evidenzia come in Italia il numero di pazienti in terapia \n",
    "# intensiva sia molto inferiore rispetto a Germania e Francia che hanno un \n",
    "# numero di casi comparabile. la Germania è la nazione i cui dati \n",
    "# presentano variabilità maggiore, ma in nessun caso sono presenti outliers."
   ]
  },
  {
   "cell_type": "code",
   "execution_count": null,
   "id": "113369cf-2b1b-4634-986c-52fddf3d536b",
   "metadata": {},
   "outputs": [],
   "source": [
    "#Grafico pazienti ospedalizzati (richiesta 6) \n",
    "nazioni_23 = df.loc[df[\"location\"].isin([\"Italy\", \"Germany\", \"France\", \"Spain\"])]\n",
    "nazioni_23[\"date\"] = pd.to_datetime(nazioni_23[\"date\"])\n",
    "nazioni_23 = nazioni_23.loc[nazioni_23[\"date\"].dt.year == 2023]\n",
    "\n",
    "somma_pazienti_ospitalizzati = nazioni_23.groupby(\"location\")[\"hosp_patients\"].sum()\n",
    "\n",
    "sns.barplot(x=somma_pazienti_ospitalizzati.index, y=somma_pazienti_ospitalizzati.values)\n"
   ]
  },
  {
   "cell_type": "code",
   "execution_count": null,
   "id": "08cf8c56-0dfc-4e1f-a792-ad43b54d369b",
   "metadata": {},
   "outputs": [],
   "source": [
    "# Commento\n",
    "#In questo caso non è opportuno sostituire i dati nulli con valori predittivi"
   ]
  }
 ],
 "metadata": {
  "kernelspec": {
   "display_name": "Python 3 (ipykernel)",
   "language": "python",
   "name": "python3"
  },
  "language_info": {
   "codemirror_mode": {
    "name": "ipython",
    "version": 3
   },
   "file_extension": ".py",
   "mimetype": "text/x-python",
   "name": "python",
   "nbconvert_exporter": "python",
   "pygments_lexer": "ipython3",
   "version": "3.11.7"
  }
 },
 "nbformat": 4,
 "nbformat_minor": 5
}
